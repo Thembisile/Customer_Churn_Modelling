{
 "cells": [
  {
   "cell_type": "markdown",
   "metadata": {
    "_uuid": "4a8db4e393a850b978c8f6528258ac67dded38d6"
   },
   "source": [
    "# Customer Churn Prediction"
   ]
  },
  {
   "cell_type": "markdown",
   "metadata": {
    "_uuid": "93219c80ccf9664d8103fcaad89c3d2345bf207e"
   },
   "source": [
    "# Introduction\n",
    "\n",
    "**Tackling basic binary classification in customer churn,\n",
    "     the task of the project is primarily to create a model that will predict the likeliness of a client to churn in future.**\n",
    "\n",
    "\n",
    "This kernel explores the following **:**\n",
    "\n",
    " * Basic Exploratory Data Analysis\n",
    " * Data Manipulation\n",
    " * Creating base model\n",
    " * Hypertuning base model"
   ]
  },
  {
   "cell_type": "markdown",
   "metadata": {
    "_uuid": "49251eaa4b5c9a6682dd3777ed55f24118651391"
   },
   "source": [
    "## Import Packages"
   ]
  },
  {
   "cell_type": "code",
   "execution_count": 1,
   "metadata": {
    "_uuid": "fd9461a74ebc6e39b394394dbd6059a1cd77f52a"
   },
   "outputs": [],
   "source": [
    "from pyforest import * #lazy-import for data science necessary imports\n",
    "from pylab import rcParams\n",
    "\n",
    "\n",
    "%matplotlib inline"
   ]
  },
  {
   "cell_type": "code",
   "execution_count": 2,
   "metadata": {
    "_uuid": "9279cda2c3a00b6a23ee6207291ec33c57a3d1a1"
   },
   "outputs": [
    {
     "ename": "FileNotFoundError",
     "evalue": "File b'/Data/Telco-Customer-Churn.csv' does not exist",
     "output_type": "error",
     "traceback": [
      "\u001b[0;31m---------------------------------------------------------------------------\u001b[0m",
      "\u001b[0;31mFileNotFoundError\u001b[0m                         Traceback (most recent call last)",
      "\u001b[0;32m<ipython-input-2-2d8670c01180>\u001b[0m in \u001b[0;36m<module>\u001b[0;34m()\u001b[0m\n\u001b[0;32m----> 1\u001b[0;31m \u001b[0mdata\u001b[0m \u001b[0;34m=\u001b[0m \u001b[0mpd\u001b[0m\u001b[0;34m.\u001b[0m\u001b[0mread_csv\u001b[0m\u001b[0;34m(\u001b[0m\u001b[0;34m'/Data/Telco-Customer-Churn.csv'\u001b[0m\u001b[0;34m)\u001b[0m\u001b[0;34m\u001b[0m\u001b[0m\n\u001b[0m",
      "\u001b[0;32m~/anaconda3/lib/python3.6/site-packages/pandas/io/parsers.py\u001b[0m in \u001b[0;36mparser_f\u001b[0;34m(filepath_or_buffer, sep, delimiter, header, names, index_col, usecols, squeeze, prefix, mangle_dupe_cols, dtype, engine, converters, true_values, false_values, skipinitialspace, skiprows, nrows, na_values, keep_default_na, na_filter, verbose, skip_blank_lines, parse_dates, infer_datetime_format, keep_date_col, date_parser, dayfirst, iterator, chunksize, compression, thousands, decimal, lineterminator, quotechar, quoting, escapechar, comment, encoding, dialect, tupleize_cols, error_bad_lines, warn_bad_lines, skipfooter, doublequote, delim_whitespace, low_memory, memory_map, float_precision)\u001b[0m\n\u001b[1;32m    676\u001b[0m                     skip_blank_lines=skip_blank_lines)\n\u001b[1;32m    677\u001b[0m \u001b[0;34m\u001b[0m\u001b[0m\n\u001b[0;32m--> 678\u001b[0;31m         \u001b[0;32mreturn\u001b[0m \u001b[0m_read\u001b[0m\u001b[0;34m(\u001b[0m\u001b[0mfilepath_or_buffer\u001b[0m\u001b[0;34m,\u001b[0m \u001b[0mkwds\u001b[0m\u001b[0;34m)\u001b[0m\u001b[0;34m\u001b[0m\u001b[0m\n\u001b[0m\u001b[1;32m    679\u001b[0m \u001b[0;34m\u001b[0m\u001b[0m\n\u001b[1;32m    680\u001b[0m     \u001b[0mparser_f\u001b[0m\u001b[0;34m.\u001b[0m\u001b[0m__name__\u001b[0m \u001b[0;34m=\u001b[0m \u001b[0mname\u001b[0m\u001b[0;34m\u001b[0m\u001b[0m\n",
      "\u001b[0;32m~/anaconda3/lib/python3.6/site-packages/pandas/io/parsers.py\u001b[0m in \u001b[0;36m_read\u001b[0;34m(filepath_or_buffer, kwds)\u001b[0m\n\u001b[1;32m    438\u001b[0m \u001b[0;34m\u001b[0m\u001b[0m\n\u001b[1;32m    439\u001b[0m     \u001b[0;31m# Create the parser.\u001b[0m\u001b[0;34m\u001b[0m\u001b[0;34m\u001b[0m\u001b[0m\n\u001b[0;32m--> 440\u001b[0;31m     \u001b[0mparser\u001b[0m \u001b[0;34m=\u001b[0m \u001b[0mTextFileReader\u001b[0m\u001b[0;34m(\u001b[0m\u001b[0mfilepath_or_buffer\u001b[0m\u001b[0;34m,\u001b[0m \u001b[0;34m**\u001b[0m\u001b[0mkwds\u001b[0m\u001b[0;34m)\u001b[0m\u001b[0;34m\u001b[0m\u001b[0m\n\u001b[0m\u001b[1;32m    441\u001b[0m \u001b[0;34m\u001b[0m\u001b[0m\n\u001b[1;32m    442\u001b[0m     \u001b[0;32mif\u001b[0m \u001b[0mchunksize\u001b[0m \u001b[0;32mor\u001b[0m \u001b[0miterator\u001b[0m\u001b[0;34m:\u001b[0m\u001b[0;34m\u001b[0m\u001b[0m\n",
      "\u001b[0;32m~/anaconda3/lib/python3.6/site-packages/pandas/io/parsers.py\u001b[0m in \u001b[0;36m__init__\u001b[0;34m(self, f, engine, **kwds)\u001b[0m\n\u001b[1;32m    785\u001b[0m             \u001b[0mself\u001b[0m\u001b[0;34m.\u001b[0m\u001b[0moptions\u001b[0m\u001b[0;34m[\u001b[0m\u001b[0;34m'has_index_names'\u001b[0m\u001b[0;34m]\u001b[0m \u001b[0;34m=\u001b[0m \u001b[0mkwds\u001b[0m\u001b[0;34m[\u001b[0m\u001b[0;34m'has_index_names'\u001b[0m\u001b[0;34m]\u001b[0m\u001b[0;34m\u001b[0m\u001b[0m\n\u001b[1;32m    786\u001b[0m \u001b[0;34m\u001b[0m\u001b[0m\n\u001b[0;32m--> 787\u001b[0;31m         \u001b[0mself\u001b[0m\u001b[0;34m.\u001b[0m\u001b[0m_make_engine\u001b[0m\u001b[0;34m(\u001b[0m\u001b[0mself\u001b[0m\u001b[0;34m.\u001b[0m\u001b[0mengine\u001b[0m\u001b[0;34m)\u001b[0m\u001b[0;34m\u001b[0m\u001b[0m\n\u001b[0m\u001b[1;32m    788\u001b[0m \u001b[0;34m\u001b[0m\u001b[0m\n\u001b[1;32m    789\u001b[0m     \u001b[0;32mdef\u001b[0m \u001b[0mclose\u001b[0m\u001b[0;34m(\u001b[0m\u001b[0mself\u001b[0m\u001b[0;34m)\u001b[0m\u001b[0;34m:\u001b[0m\u001b[0;34m\u001b[0m\u001b[0m\n",
      "\u001b[0;32m~/anaconda3/lib/python3.6/site-packages/pandas/io/parsers.py\u001b[0m in \u001b[0;36m_make_engine\u001b[0;34m(self, engine)\u001b[0m\n\u001b[1;32m   1012\u001b[0m     \u001b[0;32mdef\u001b[0m \u001b[0m_make_engine\u001b[0m\u001b[0;34m(\u001b[0m\u001b[0mself\u001b[0m\u001b[0;34m,\u001b[0m \u001b[0mengine\u001b[0m\u001b[0;34m=\u001b[0m\u001b[0;34m'c'\u001b[0m\u001b[0;34m)\u001b[0m\u001b[0;34m:\u001b[0m\u001b[0;34m\u001b[0m\u001b[0m\n\u001b[1;32m   1013\u001b[0m         \u001b[0;32mif\u001b[0m \u001b[0mengine\u001b[0m \u001b[0;34m==\u001b[0m \u001b[0;34m'c'\u001b[0m\u001b[0;34m:\u001b[0m\u001b[0;34m\u001b[0m\u001b[0m\n\u001b[0;32m-> 1014\u001b[0;31m             \u001b[0mself\u001b[0m\u001b[0;34m.\u001b[0m\u001b[0m_engine\u001b[0m \u001b[0;34m=\u001b[0m \u001b[0mCParserWrapper\u001b[0m\u001b[0;34m(\u001b[0m\u001b[0mself\u001b[0m\u001b[0;34m.\u001b[0m\u001b[0mf\u001b[0m\u001b[0;34m,\u001b[0m \u001b[0;34m**\u001b[0m\u001b[0mself\u001b[0m\u001b[0;34m.\u001b[0m\u001b[0moptions\u001b[0m\u001b[0;34m)\u001b[0m\u001b[0;34m\u001b[0m\u001b[0m\n\u001b[0m\u001b[1;32m   1015\u001b[0m         \u001b[0;32melse\u001b[0m\u001b[0;34m:\u001b[0m\u001b[0;34m\u001b[0m\u001b[0m\n\u001b[1;32m   1016\u001b[0m             \u001b[0;32mif\u001b[0m \u001b[0mengine\u001b[0m \u001b[0;34m==\u001b[0m \u001b[0;34m'python'\u001b[0m\u001b[0;34m:\u001b[0m\u001b[0;34m\u001b[0m\u001b[0m\n",
      "\u001b[0;32m~/anaconda3/lib/python3.6/site-packages/pandas/io/parsers.py\u001b[0m in \u001b[0;36m__init__\u001b[0;34m(self, src, **kwds)\u001b[0m\n\u001b[1;32m   1706\u001b[0m         \u001b[0mkwds\u001b[0m\u001b[0;34m[\u001b[0m\u001b[0;34m'usecols'\u001b[0m\u001b[0;34m]\u001b[0m \u001b[0;34m=\u001b[0m \u001b[0mself\u001b[0m\u001b[0;34m.\u001b[0m\u001b[0musecols\u001b[0m\u001b[0;34m\u001b[0m\u001b[0m\n\u001b[1;32m   1707\u001b[0m \u001b[0;34m\u001b[0m\u001b[0m\n\u001b[0;32m-> 1708\u001b[0;31m         \u001b[0mself\u001b[0m\u001b[0;34m.\u001b[0m\u001b[0m_reader\u001b[0m \u001b[0;34m=\u001b[0m \u001b[0mparsers\u001b[0m\u001b[0;34m.\u001b[0m\u001b[0mTextReader\u001b[0m\u001b[0;34m(\u001b[0m\u001b[0msrc\u001b[0m\u001b[0;34m,\u001b[0m \u001b[0;34m**\u001b[0m\u001b[0mkwds\u001b[0m\u001b[0;34m)\u001b[0m\u001b[0;34m\u001b[0m\u001b[0m\n\u001b[0m\u001b[1;32m   1709\u001b[0m \u001b[0;34m\u001b[0m\u001b[0m\n\u001b[1;32m   1710\u001b[0m         \u001b[0mpassed_names\u001b[0m \u001b[0;34m=\u001b[0m \u001b[0mself\u001b[0m\u001b[0;34m.\u001b[0m\u001b[0mnames\u001b[0m \u001b[0;32mis\u001b[0m \u001b[0;32mNone\u001b[0m\u001b[0;34m\u001b[0m\u001b[0m\n",
      "\u001b[0;32mpandas/_libs/parsers.pyx\u001b[0m in \u001b[0;36mpandas._libs.parsers.TextReader.__cinit__\u001b[0;34m()\u001b[0m\n",
      "\u001b[0;32mpandas/_libs/parsers.pyx\u001b[0m in \u001b[0;36mpandas._libs.parsers.TextReader._setup_parser_source\u001b[0;34m()\u001b[0m\n",
      "\u001b[0;31mFileNotFoundError\u001b[0m: File b'/Data/Telco-Customer-Churn.csv' does not exist"
     ]
    }
   ],
   "source": [
    "data = pd.read_csv('/Data/Telco-Customer-Churn.csv')"
   ]
  },
  {
   "cell_type": "markdown",
   "metadata": {
    "_uuid": "259d95c6b7dcc66a4e601cf7bfdb010899b78d04"
   },
   "source": [
    "## Data Exploration"
   ]
  },
  {
   "cell_type": "code",
   "execution_count": null,
   "metadata": {
    "_uuid": "5106d47499d710a630e7ba31a0e9be43d59bb611"
   },
   "outputs": [],
   "source": [
    "data.columns"
   ]
  },
  {
   "cell_type": "code",
   "execution_count": null,
   "metadata": {
    "_uuid": "94fef7ae1be348c0d0f9ddcdf722f5390b3f1808"
   },
   "outputs": [],
   "source": [
    "data.shape"
   ]
  },
  {
   "cell_type": "markdown",
   "metadata": {
    "_uuid": "2eb272cdd74ce3a08cb3bd7640a7ecde5e2b01cd"
   },
   "source": [
    "    7043 data objects with 21 attributes"
   ]
  },
  {
   "cell_type": "code",
   "execution_count": null,
   "metadata": {
    "_uuid": "b188f5a000cc12de434dc2e503b1079f48121937"
   },
   "outputs": [],
   "source": [
    "data.head(5)"
   ]
  },
  {
   "cell_type": "markdown",
   "metadata": {
    "_uuid": "0fa1bd822aecd0e46cdd7dd548555e7aad79e26e"
   },
   "source": [
    "**<font color='forestgreen'> Note</font>**\n",
    "\n",
    "    First of all, drop customerID because it should not effect to churn probability"
   ]
  },
  {
   "cell_type": "code",
   "execution_count": null,
   "metadata": {
    "_uuid": "2bb21615b50fedae76a5ab1312ded49381c4c7d7"
   },
   "outputs": [],
   "source": [
    "data.drop(['customerID'], axis=1, inplace=True)"
   ]
  },
  {
   "cell_type": "markdown",
   "metadata": {
    "_uuid": "ec1a26f36e5efde3d444cc9bc6acb172b46f7d51"
   },
   "source": [
    "## Target Feature"
   ]
  },
  {
   "cell_type": "code",
   "execution_count": null,
   "metadata": {
    "_uuid": "d2634f26dfd02ecfa22f44480216a0e73df8d153"
   },
   "outputs": [],
   "source": [
    "data['Churn'].value_counts(sort = False)"
   ]
  },
  {
   "cell_type": "code",
   "execution_count": null,
   "metadata": {
    "_uuid": "13b5e5b54efd70d874ce9703be051a0ed36295a2"
   },
   "outputs": [],
   "source": [
    "data['Churn'].value_counts(sort = False)"
   ]
  },
  {
   "cell_type": "code",
   "execution_count": null,
   "metadata": {
    "_uuid": "9370199de0113b6ec0f6e8ab5533cebf69d2f6b8"
   },
   "outputs": [],
   "source": [
    "# Data to plot\n",
    "labels =data['Churn'].value_counts(sort = True).index\n",
    "sizes = data['Churn'].value_counts(sort = True)\n",
    "\n",
    "\n",
    "colors = [\"whitesmoke\",\"red\"]\n",
    "explode = (0.1,0)  # explode 1st slice\n",
    " \n",
    "rcParams['figure.figsize'] = 8,8\n",
    "# Plot\n",
    "plt.pie(sizes, explode=explode, labels=labels, colors=colors,\n",
    "        autopct='%1.1f%%', shadow=True, startangle=270,)\n",
    "\n",
    "plt.title('Percent of churn in customer')\n",
    "plt.show()"
   ]
  },
  {
   "cell_type": "markdown",
   "metadata": {
    "_uuid": "1ab56b9b47f24df6f9a3a6ad594fa8644f0085da"
   },
   "source": [
    "**<font color='tomato'> Finding</font>**\n",
    "    \n",
    "    In training set, contain Churn customer only 26.5%"
   ]
  },
  {
   "cell_type": "code",
   "execution_count": null,
   "metadata": {
    "_uuid": "f13f416e183dd848d05c249ce73fcd3520317f49"
   },
   "outputs": [],
   "source": [
    "data['Churn'] = data['Churn'].map(lambda s :1  if s =='Yes' else 0)"
   ]
  },
  {
   "cell_type": "markdown",
   "metadata": {
    "_uuid": "6680e1fb9898e18df05722964b37d080a36e2b9d"
   },
   "source": [
    "## Data Wrangling"
   ]
  },
  {
   "cell_type": "code",
   "execution_count": null,
   "metadata": {
    "_uuid": "90925fe1d0f076af048da5c0e61cbe53431378a8"
   },
   "outputs": [],
   "source": [
    "data.info()"
   ]
  },
  {
   "cell_type": "code",
   "execution_count": null,
   "metadata": {
    "_uuid": "5ea31a8f4f1ad1a2a39b8ade4b0ffcaf22c20971"
   },
   "outputs": [],
   "source": [
    "#missing data\n",
    "total = data.isnull().sum().sort_values(ascending=False)\n",
    "percent = (data.isnull().sum()/data.isnull().count()).sort_values(ascending=False)\n",
    "missing_data = pd.concat([total, percent], axis=1, keys=['Total', 'Percent'])\n",
    "missing_data.head(6)"
   ]
  },
  {
   "cell_type": "markdown",
   "metadata": {
    "_uuid": "61e6ce7719b2e25b699d0333ef3f6798b19fd0a9"
   },
   "source": [
    "**<font color='tomato'> Finding</font>**\n",
    "\n",
    "    No missing data ??"
   ]
  },
  {
   "cell_type": "code",
   "execution_count": null,
   "metadata": {
    "_uuid": "d6d6a168f3759a07a809b6dd32b9836712ef4fe0"
   },
   "outputs": [],
   "source": [
    "data.head(5)"
   ]
  },
  {
   "cell_type": "markdown",
   "metadata": {
    "_uuid": "c9e2e32146d9a4693864deb24f0671e1accc4d92"
   },
   "source": [
    "**<font color='royalblue'> Preprocessing</font>**\n",
    "\n",
    "#### Gender : Customer gender (female, male)\n",
    "\n",
    "    Because we can't put string in model, then I decide to create new binary columns."
   ]
  },
  {
   "cell_type": "code",
   "execution_count": null,
   "metadata": {
    "_uuid": "15e5d6aa972ecde0abe2f576993faa609ca5d4a0"
   },
   "outputs": [],
   "source": [
    "data['gender'].head()"
   ]
  },
  {
   "cell_type": "code",
   "execution_count": null,
   "metadata": {
    "_uuid": "1f5a5b43ef75c3f31ed4f03ad508cbca76447479"
   },
   "outputs": [],
   "source": [
    "g = sns.factorplot(y=\"Churn\",x=\"gender\",data=data,kind=\"bar\" ,palette = \"Pastel1\")\n"
   ]
  },
  {
   "cell_type": "code",
   "execution_count": null,
   "metadata": {
    "_uuid": "d3f95e6bee9824716f1086078f1d51351824b7a0"
   },
   "outputs": [],
   "source": [
    "data = pd.get_dummies(data=data, columns=['gender'])"
   ]
  },
  {
   "cell_type": "markdown",
   "metadata": {
    "_uuid": "9f55e3a326e3f5b619a9b14f25e8fa953cbb1bac"
   },
   "source": [
    "**<font color='royalblue'> Preprocessing</font>**\n",
    "\n",
    "#### SeniorCitizen : Whether the customer is a senior citizen or not (1, 0)\n",
    "    this feature is ready to use"
   ]
  },
  {
   "cell_type": "code",
   "execution_count": null,
   "metadata": {
    "_uuid": "928f3fef5a4421f2c56412862307ca21017357e1"
   },
   "outputs": [],
   "source": [
    "data['SeniorCitizen'].value_counts()"
   ]
  },
  {
   "cell_type": "markdown",
   "metadata": {
    "_uuid": "27289c49ced601a7415f9b65012805ad74c2a5a5"
   },
   "source": [
    "**<font color='royalblue'> Preprocessing</font>**\n",
    "\n",
    "#### Partner : Whether the customer has a partner or not (Yes, No)\n",
    "    This feature value has the same meaning with SeniorCitizen \n",
    "    but it is a \"Yes/No\" values then we need to change format"
   ]
  },
  {
   "cell_type": "code",
   "execution_count": null,
   "metadata": {
    "_uuid": "4cd7281ffbbc324959390975b7ce17a8b187bd1e"
   },
   "outputs": [],
   "source": [
    "data['Partner'].value_counts()"
   ]
  },
  {
   "cell_type": "code",
   "execution_count": null,
   "metadata": {
    "_uuid": "96b23fffef7db69567daf36b1549d86be1d7a41f"
   },
   "outputs": [],
   "source": [
    "data['Partner'] = data['Partner'].map(lambda s :1  if s =='Yes' else 0)\n",
    "data['Partner'].value_counts()"
   ]
  },
  {
   "cell_type": "markdown",
   "metadata": {
    "_uuid": "ef250f1ab4dc5d199a114a0f348c4af7ae44a8da"
   },
   "source": [
    "**<font color='royalblue'> Preprocessing</font>**\n",
    "\n",
    "#### Dependents, PhoneService, PaperlessBilling\n",
    "    Do the same what we do in \"Partner\" column\n",
    "    "
   ]
  },
  {
   "cell_type": "code",
   "execution_count": null,
   "metadata": {
    "_uuid": "d2b34205b35006307fbdc048eea1380bfdbd6b32"
   },
   "outputs": [],
   "source": [
    "data['Dependents'] = data['Dependents'].map(lambda s :1  if s =='Yes' else 0)\n",
    "data['PhoneService'] = data['PhoneService'].map(lambda s :1  if s =='Yes' else 0)\n",
    "data['PaperlessBilling'] = data['PaperlessBilling'].map(lambda s :1  if s =='Yes' else 0)\n"
   ]
  },
  {
   "cell_type": "markdown",
   "metadata": {
    "_uuid": "1ed3b3979cad71f8ca6dd8d7cb97c845a36c23ff"
   },
   "source": [
    "**<font color='royalblue'> Preprocessing</font>**\n",
    "\n",
    "#### Tenure : Number of months the customer has stayed with the company\n",
    "    This is numerical feature we can cut it to bin width but I think it ready to use  \n",
    "    "
   ]
  },
  {
   "cell_type": "code",
   "execution_count": null,
   "metadata": {
    "_uuid": "154705e350d3d7617b1f0f0f535f27cbd74025ec"
   },
   "outputs": [],
   "source": [
    "data['tenure'].head()"
   ]
  },
  {
   "cell_type": "code",
   "execution_count": null,
   "metadata": {
    "_uuid": "1b6d8cfd5d81d927bda0b36bc37ed85ebaeb721b"
   },
   "outputs": [],
   "source": [
    "# tenure distibution \n",
    "g = sns.kdeplot(data.tenure[(data[\"Churn\"] == 0) ], color=\"Red\", shade = True)\n",
    "g = sns.kdeplot(data.tenure[(data[\"Churn\"] == 1) ], ax =g, color=\"Blue\", shade= True)\n",
    "g.set_xlabel(\"tenure\")\n",
    "g.set_ylabel(\"Frequency\")\n",
    "plt.title('Distribution of tenure comparing with churn feature')\n",
    "g = g.legend([\"Not Churn\",\"Churn\"])"
   ]
  },
  {
   "cell_type": "markdown",
   "metadata": {
    "_uuid": "fb1aac3d7deeac30523658cdccd76c62f25beaa4"
   },
   "source": [
    "**<font color='tomato'> Finding</font>**\n",
    "\n",
    "    Seem like most of churn customer stayed in company less than 20 months\n",
    "    and customer with high value in tenure has low probability to churn"
   ]
  },
  {
   "cell_type": "markdown",
   "metadata": {
    "_uuid": "da316e0cfc8fd5b2ad3f12fed14fce7854518323"
   },
   "source": [
    "**<font color='royalblue'> Preprocessing</font>**\n",
    "\n",
    "#### MultipleLines : Whether the customer has multiple lines or not (Yes, No, No phone service)\n",
    "    look like Yes No feature but it contain 3 values. \n",
    "    I should create new column that can tell model this customer has phone service or not.\n",
    "    but we already have 'PhoneService' columns, \n",
    "    then I decide to assume that \"No phone service\" has the same meaning with \"No\"\n",
    "    "
   ]
  },
  {
   "cell_type": "code",
   "execution_count": null,
   "metadata": {
    "_uuid": "041edbb4425ff049b362c194a58f25f19e0bcf13",
    "scrolled": true
   },
   "outputs": [],
   "source": [
    "data['MultipleLines'].value_counts()"
   ]
  },
  {
   "cell_type": "code",
   "execution_count": null,
   "metadata": {
    "_uuid": "4368bf1beb6f5c6a3b8f427d9c60e5dcf113fb37"
   },
   "outputs": [],
   "source": [
    "data['MultipleLines'].replace('No phone service','No', inplace=True)\n",
    "data['MultipleLines'] = data['MultipleLines'].map(lambda s :1  if s =='Yes' else 0)\n",
    "data['MultipleLines'].value_counts()"
   ]
  },
  {
   "cell_type": "markdown",
   "metadata": {
    "_uuid": "1828277b7f9d0d0f9a2dbc71819d18c033ab5486"
   },
   "source": [
    "**<font color='royalblue'> Preprocessing</font>**\n",
    "\n",
    "#### InternetService : Customer’s internet service provider (DSL, Fiber optic, No)\n",
    "    First of all, I want something like \"PhoneService\" column, \n",
    "    then I decide to create Has_InternetService column which can tell this customer has internet service or not.\n",
    "    Next, if they have internet service we need to tell model what kind of service"
   ]
  },
  {
   "cell_type": "code",
   "execution_count": null,
   "metadata": {
    "_uuid": "315e28c4d4f0016130b6104495e03a61211b783a"
   },
   "outputs": [],
   "source": [
    "data['InternetService'].value_counts()"
   ]
  },
  {
   "cell_type": "code",
   "execution_count": null,
   "metadata": {
    "_uuid": "98e50313cac6b27bb048dcf7e7117c1b1d51d6ee"
   },
   "outputs": [],
   "source": [
    "data['Has_InternetService'] = data['InternetService'].map(lambda s :0  if s =='No' else 1)\n",
    "data['Fiber_optic'] = data['InternetService'].map(lambda s :1  if s =='Fiber optic' else 0)\n",
    "data['DSL'] = data['InternetService'].map(lambda s :1  if s =='DSL' else 0)\n"
   ]
  },
  {
   "cell_type": "code",
   "execution_count": null,
   "metadata": {
    "_uuid": "90755cc8c1d09e090b12a83f46db17a721e32cef"
   },
   "outputs": [],
   "source": [
    "print(data['Has_InternetService'].value_counts())\n",
    "print(data['Fiber_optic'].value_counts())\n",
    "print(data['DSL'].value_counts())\n",
    "data.drop(['InternetService'], axis=1, inplace=True)"
   ]
  },
  {
   "cell_type": "markdown",
   "metadata": {
    "_uuid": "3339da2a31e69891a22a79e1764e5cc420b15de3"
   },
   "source": [
    "**<font color='royalblue'> Preprocessing</font>**\n",
    "\n",
    "**OnlineSecurity OnlineBackup DeviceProtection <br>\n",
    " TechSupport StreamingTV StreamingMovies**\n",
    "\n",
    "     All of these columns have the same format,I do the samething what I do in \"MultipleLines\" column"
   ]
  },
  {
   "cell_type": "code",
   "execution_count": null,
   "metadata": {
    "_uuid": "26ca6ba6ea34d64b1f274ff0f849bb06d185fc1b"
   },
   "outputs": [],
   "source": [
    "data['OnlineSecurity'] = data['OnlineSecurity'].map(lambda s :1  if s =='Yes' else 0)\n",
    "data['OnlineBackup'] = data['OnlineBackup'].map(lambda s :1  if s =='Yes' else 0)\n",
    "data['DeviceProtection'] = data['DeviceProtection'].map(lambda s :1  if s =='Yes' else 0)\n",
    "data['TechSupport'] = data['TechSupport'].map(lambda s :1  if s =='Yes' else 0)\n",
    "data['StreamingTV'] = data['StreamingTV'].map(lambda s :1  if s =='Yes' else 0)\n",
    "data['StreamingMovies'] = data['StreamingMovies'].map(lambda s :1  if s =='Yes' else 0)"
   ]
  },
  {
   "cell_type": "markdown",
   "metadata": {
    "_uuid": "f81b827afe777cecd7a8893758fe87865a682e72"
   },
   "source": [
    "**<font color='royalblue'> Preprocessing</font>**\n",
    "\n",
    "#### PaymentMethod : The customer’s payment method (Electronic check, Mailed check, Bank transfer (automatic), Credit card (automatic))\n",
    "    This is categorical feature, I will use pandas function \"get_dummies\" for this feature"
   ]
  },
  {
   "cell_type": "code",
   "execution_count": null,
   "metadata": {
    "_uuid": "8b4253ccf4fa4215caedde7f0671b569539718e7"
   },
   "outputs": [],
   "source": [
    "data['PaymentMethod'].value_counts()"
   ]
  },
  {
   "cell_type": "code",
   "execution_count": null,
   "metadata": {
    "_uuid": "ebbf6afad056e2eddd87684ea785ff8ba5dd991b"
   },
   "outputs": [],
   "source": [
    "data = pd.get_dummies(data=data, columns=['PaymentMethod'])"
   ]
  },
  {
   "cell_type": "markdown",
   "metadata": {
    "_uuid": "b3dea6320d818d90e2f41f3a172c52f05a37a8dd"
   },
   "source": [
    "**<font color='forestgreen'> Note</font>**\n",
    "\n",
    "    What we got from get_dummies ??"
   ]
  },
  {
   "cell_type": "code",
   "execution_count": null,
   "metadata": {
    "_uuid": "f156172dd68c5773cc5a0038c6a679f10593fc87"
   },
   "outputs": [],
   "source": [
    "data[['PaymentMethod_Electronic check',\n",
    "      'PaymentMethod_Mailed check',\n",
    "      'PaymentMethod_Bank transfer (automatic)',\n",
    "      'PaymentMethod_Credit card (automatic)']].head()"
   ]
  },
  {
   "cell_type": "markdown",
   "metadata": {
    "_uuid": "9f9cd639c0e74c414e6fc3188644351fdf6187c1"
   },
   "source": [
    "**<font color='royalblue'> Preprocessing</font>**\n",
    "\n",
    "#### Contract : The contract term of the customer (Month-to-month, One year, Two year)\n",
    "    this is also categorical value, let \"get_dummies\" it\n"
   ]
  },
  {
   "cell_type": "code",
   "execution_count": null,
   "metadata": {
    "_uuid": "0cbce7a3528e7f7d9b23c69f99da537177a8f869"
   },
   "outputs": [],
   "source": [
    "data['Contract'].value_counts()"
   ]
  },
  {
   "cell_type": "code",
   "execution_count": null,
   "metadata": {
    "_uuid": "4ba4f52adecd6d8d9a1be1599872fa11cdeb685b"
   },
   "outputs": [],
   "source": [
    "data = pd.get_dummies(data=data, columns=['Contract'])"
   ]
  },
  {
   "cell_type": "markdown",
   "metadata": {
    "_uuid": "98ecaf8fd844c84443b10637b7205fef93818b7f"
   },
   "source": [
    "**<font color='royalblue'> Preprocessing</font>**\n",
    "\n",
    "#### MonthlyCharges : The amount charged to the customer monthly\n",
    "    numerical features and lucky!! it ready to use"
   ]
  },
  {
   "cell_type": "code",
   "execution_count": null,
   "metadata": {
    "_uuid": "c1a26d54750d624d7daa0a9e65dc9366c4ab5146"
   },
   "outputs": [],
   "source": [
    "data['MonthlyCharges'].head()"
   ]
  },
  {
   "cell_type": "code",
   "execution_count": null,
   "metadata": {
    "_uuid": "848f2431931f0f2c403c8af8d95679c8266b0e7a"
   },
   "outputs": [],
   "source": [
    "g = sns.factorplot(x=\"Churn\", y = \"MonthlyCharges\",data = data, kind=\"box\", palette = \"Pastel1\")"
   ]
  },
  {
   "cell_type": "markdown",
   "metadata": {
    "_uuid": "eb85b61f8b4326e214ed63ee660c95f2a2a8b45c"
   },
   "source": [
    "**<font color='tomato'> Finding</font>**\n",
    "\n",
    "    According to above plot, High MonthlyCharges may affect to churn probability.\n",
    "    And seem like customer will not churn if they have low amount in MonthlyCharges"
   ]
  },
  {
   "cell_type": "markdown",
   "metadata": {
    "_uuid": "80b227304d7e698234fd05e1c09c46b8d373d2f1"
   },
   "source": [
    "**<font color='royalblue'> Preprocessing</font>**\n",
    "\n",
    "#### TotalCharges : The total amount charged to the customer\n",
    "    numerical feature !?, but now it still in object type.\n",
    "    we need to fix it."
   ]
  },
  {
   "cell_type": "code",
   "execution_count": null,
   "metadata": {
    "_uuid": "ba1e9f6926c627cb8ec789e128a4c96a420ad2ba"
   },
   "outputs": [],
   "source": [
    "data['TotalCharges'].head()"
   ]
  },
  {
   "cell_type": "code",
   "execution_count": null,
   "metadata": {
    "_uuid": "7a94aa4cf08470b8d980832cc5173be3e6a55873"
   },
   "outputs": [],
   "source": [
    "## because 11 rows contain \" \" , it means 11 missing data in our dataset\n",
    "len(data[data['TotalCharges'] == \" \"])"
   ]
  },
  {
   "cell_type": "code",
   "execution_count": null,
   "metadata": {
    "_uuid": "6a13635716c53562b17afe3c1004cc8a5a073e3b"
   },
   "outputs": [],
   "source": [
    "## Drop missing data\n",
    "data = data[data['TotalCharges'] != \" \"]"
   ]
  },
  {
   "cell_type": "code",
   "execution_count": null,
   "metadata": {
    "_uuid": "691cafcfd767d3d8812c21f79db2ed8d3485b318"
   },
   "outputs": [],
   "source": [
    "data['TotalCharges'] = pd.to_numeric(data['TotalCharges'])\n",
    "## At first time I use this command but it error because some value contain \" \"\n",
    "## That why I know \" \" hide in our dataset "
   ]
  },
  {
   "cell_type": "code",
   "execution_count": null,
   "metadata": {
    "_uuid": "9938fa1259ad287db9d58c8f8cf74d8f770596b9"
   },
   "outputs": [],
   "source": [
    "g = sns.factorplot(y=\"TotalCharges\",x=\"Churn\",data=data,kind=\"boxen\", palette = \"Pastel2\")"
   ]
  },
  {
   "cell_type": "markdown",
   "metadata": {
    "_uuid": "be36ebafdcba3fd980fd8d1759d8ba2f7fdc647d"
   },
   "source": [
    "**<font color='tomato'> Finding</font>**\n",
    "\n",
    "    From boxen plot, most of churn customer has less than 2000 in total chrage.\n",
    "    In range of 2500 to 8000, population of loyalty customer is around twice as amount as churn customer."
   ]
  },
  {
   "cell_type": "code",
   "execution_count": null,
   "metadata": {
    "_uuid": "6cc2e952e45b783fff1d96db6d8d9ecf9d60c8e8"
   },
   "outputs": [],
   "source": [
    "data.info()"
   ]
  },
  {
   "cell_type": "markdown",
   "metadata": {
    "_uuid": "054cd7fce11790cdd5a30d6030e03896c0fb796e"
   },
   "source": [
    "##  CreatingModel & Evaluate\n",
    "\n",
    "      In this step, I will use model with default parameter compare with tuning parameter by using grid search\n",
    "      Gridsearch is just like try to put all possible combining between parameter in ranges that we input.\n",
    "      It consume a lot of time, I decide to comment some line. you can try uncomment it when run in your local PC."
   ]
  },
  {
   "cell_type": "code",
   "execution_count": null,
   "metadata": {
    "_uuid": "e1d1e3916e929b7738e0f237cc02af05bf7d3e9a"
   },
   "outputs": [],
   "source": [
    "data[\"Churn\"] = data[\"Churn\"].astype(int)\n",
    "\n",
    "Y_train = data[\"Churn\"]\n",
    "X_train = data.drop(labels = [\"Churn\"],axis = 1)"
   ]
  },
  {
   "cell_type": "markdown",
   "metadata": {
    "_uuid": "b6686613473ac3ca8229d6b14165453a230ed838"
   },
   "source": [
    "## Random Forest"
   ]
  },
  {
   "cell_type": "code",
   "execution_count": null,
   "metadata": {
    "_uuid": "094a2ad9e85dbf1c7aeeafc3d2e197cc1b686d5f"
   },
   "outputs": [],
   "source": [
    "from sklearn.ensemble import RandomForestClassifier\n",
    "from sklearn.model_selection import  cross_val_score,GridSearchCV\n",
    "\n",
    "Rfclf = RandomForestClassifier(random_state=15)\n",
    "Rfclf.fit(X_train, Y_train)"
   ]
  },
  {
   "cell_type": "code",
   "execution_count": null,
   "metadata": {
    "_uuid": "402d4842538ebabf4b20fdc4f9250b07125bc2ab"
   },
   "outputs": [],
   "source": [
    "# 10 Folds Cross Validation \n",
    "clf_score = cross_val_score(Rfclf, X_train, Y_train, cv=10)\n",
    "print(clf_score)\n",
    "clf_score.mean()"
   ]
  },
  {
   "cell_type": "markdown",
   "metadata": {
    "_uuid": "84adc8daeebcfd81b04371614df9a1fb3fbe6a34"
   },
   "source": [
    "**<font color='tomato'> Finding</font>**\n",
    "\n",
    "    My default random forest get around 78% accuracy from cross-validation"
   ]
  },
  {
   "cell_type": "code",
   "execution_count": null,
   "metadata": {
    "_uuid": "0861953ac11ea844b79355991f2a511220892f51"
   },
   "outputs": [],
   "source": [
    "%%time\n",
    "param_grid  = { \n",
    "                'n_estimators' : [500,1200],\n",
    "               # 'min_samples_split': [2,5,10,15,100],\n",
    "               # 'min_samples_leaf': [1,2,5,10],\n",
    "                'max_depth': range(1,5,2),\n",
    "                'max_features' : ('log2', 'sqrt'),\n",
    "                'class_weight':[{1: w} for w in [1,1.5]]\n",
    "              }\n",
    "\n",
    "GridRF = GridSearchCV(RandomForestClassifier(random_state=15), param_grid)\n",
    "\n",
    "GridRF.fit(X_train, Y_train)\n",
    "#RF_preds = GridRF.predict_proba(X_test)[:, 1]\n",
    "#RF_performance = roc_auc_score(Y_test, RF_preds)\n",
    "\n",
    "print(\n",
    "    #'DecisionTree: Area under the ROC curve = {}'.format(RF_performance)\n",
    "     \"\\nBest parameters \\n\" + str(GridRF.best_params_))"
   ]
  },
  {
   "cell_type": "code",
   "execution_count": null,
   "metadata": {
    "_uuid": "0d5d41dbff72f3fa5e093e23febaa24b710474f0"
   },
   "outputs": [],
   "source": [
    "rf = RandomForestClassifier(random_state=15,**GridRF.best_params_)\n",
    "rf.fit(X_train, Y_train)"
   ]
  },
  {
   "cell_type": "markdown",
   "metadata": {
    "_uuid": "1d59221457fa931c4d7500cd490aa16080e414ee"
   },
   "source": [
    "## K-Fold CV with accuracy metric\n"
   ]
  },
  {
   "cell_type": "code",
   "execution_count": null,
   "metadata": {
    "_uuid": "9fbfe9b7cc699ad54b8e069a8b62c583bd3c0fa4"
   },
   "outputs": [],
   "source": [
    "# 10 Folds Cross Validation \n",
    "clf_score = cross_val_score(rf, X_train, Y_train, cv=10)\n",
    "print(clf_score)\n",
    "clf_score.mean()\n",
    "    "
   ]
  },
  {
   "cell_type": "markdown",
   "metadata": {
    "_uuid": "0d354e71e5e19f84e250db061da91804070ebf1e"
   },
   "source": [
    "**<font color='tomato'> Finding</font>**\n",
    "\n",
    "    My grid-search random forest get around 80% accuracy from cross-validation,\n",
    "    a little bit improve from default parameter"
   ]
  },
  {
   "cell_type": "markdown",
   "metadata": {
    "_uuid": "7860d92dec16b0cbbf0e73bcc51d5ddbd0c96216"
   },
   "source": [
    "## Feature importances\n",
    "    another advantage from rule-based model"
   ]
  },
  {
   "cell_type": "code",
   "execution_count": null,
   "metadata": {
    "_uuid": "8a6628ac229754981873d78483a14c9bd88b98e2"
   },
   "outputs": [],
   "source": [
    "Rfclf_fea = pd.DataFrame(rf.feature_importances_)\n",
    "Rfclf_fea[\"Feature\"] = list(X_train) \n",
    "Rfclf_fea.sort_values(by=0, ascending=False).head()"
   ]
  },
  {
   "cell_type": "code",
   "execution_count": null,
   "metadata": {
    "_uuid": "b23a6cbad844222222f558f5b9be2795379c68a1"
   },
   "outputs": [],
   "source": [
    "g = sns.barplot(0,\"Feature\",data = Rfclf_fea.sort_values(by=0, ascending=False)[0:5], palette=\"Pastel1\",orient = \"h\")\n",
    "g.set_xlabel(\"Weight\")\n",
    "g = g.set_title(\"Random Forest\")"
   ]
  },
  {
   "cell_type": "markdown",
   "metadata": {
    "_uuid": "7b6ef51c6452516653a00e37d1ea88649296371b"
   },
   "source": [
    "## Confusion Matrix\n",
    "\n",
    "    also known as an error matrix, it is a specific table layout that allows visualization of the performance of an algorithm"
   ]
  },
  {
   "cell_type": "code",
   "execution_count": null,
   "metadata": {
    "_uuid": "9bce9bb600db5ae91ffaf3211985cc96e5668374"
   },
   "outputs": [],
   "source": [
    "# Confusion Matrix\n",
    "from sklearn.metrics import confusion_matrix\n",
    "\n",
    "y_pred = rf.predict(X_train)\n",
    "\n",
    "print(confusion_matrix(Y_train, y_pred))"
   ]
  },
  {
   "cell_type": "code",
   "execution_count": null,
   "metadata": {
    "_uuid": "258e81f0947917be7d4524dcb19312c473a3e137"
   },
   "outputs": [],
   "source": [
    "from sklearn.metrics import classification_report\n",
    "\n",
    "print(classification_report( Y_train, y_pred))"
   ]
  },
  {
   "cell_type": "markdown",
   "metadata": {
    "_uuid": "e0ce7ae295c3dfd6d6436909fb4506c4c6caa30b"
   },
   "source": [
    "**Thank you for reading until the end : )** \n",
    "\n",
    "    I will try to update new version\n",
    "    please vote or comment If you like it ^_^\n",
    "    If you have any suggestion let me know in comment."
   ]
  }
 ],
 "metadata": {
  "kernelspec": {
   "display_name": "Python 3",
   "language": "python",
   "name": "python3"
  },
  "language_info": {
   "codemirror_mode": {
    "name": "ipython",
    "version": 3
   },
   "file_extension": ".py",
   "mimetype": "text/x-python",
   "name": "python",
   "nbconvert_exporter": "python",
   "pygments_lexer": "ipython3",
   "version": "3.6.6"
  }
 },
 "nbformat": 4,
 "nbformat_minor": 1
}
